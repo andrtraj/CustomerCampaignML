{
 "cells": [
  {
   "cell_type": "code",
   "execution_count": 1,
   "metadata": {},
   "outputs": [],
   "source": [
    "import os\n",
    "import pandas as pd\n",
    "import pyreadstat\n",
    "import matplotlib.pyplot as plt\n",
    "import numpy as np\n",
    "from matplotlib import rcParams\n",
    "import seaborn as sns\n",
    "\n",
    "# Visual setup\n",
    "import matplotlib.ticker as ticker\n",
    "plt.style.use('ggplot')\n",
    "rcParams['axes.spines.right'] = False\n",
    "rcParams['axes.spines.top'] = False\n",
    "rcParams['figure.figsize'] = [8, 4]\n",
    "rcParams['font.size'] = 12\n",
    "plt.rc('xtick', labelsize=12)\n",
    "plt.rc('ytick', labelsize=12)\n",
    "custom_colors = ['#74a09e','#86c1b2','#98e2c6','#f3c969','#f2a553', '#d96548', '#c14953']\n",
    "sns.set_palette(custom_colors)\n",
    "%config InlineBackend.figure_format = 'retina'\n",
    "%config Completer.use_jedi = False\n",
    "\n",
    "#Pandas Options\n",
    "pd.set_option('max_colwidth', 40)\n",
    "pd.options.display.max_columns = None  # Possible to limit\n",
    "from IPython.core.interactiveshell import InteractiveShell\n",
    "InteractiveShell.ast_node_interactivity = 'all'"
   ]
  },
  {
   "cell_type": "code",
   "execution_count": 2,
   "metadata": {},
   "outputs": [
    {
     "data": {
      "text/html": [
       "<div>\n",
       "<style scoped>\n",
       "    .dataframe tbody tr th:only-of-type {\n",
       "        vertical-align: middle;\n",
       "    }\n",
       "\n",
       "    .dataframe tbody tr th {\n",
       "        vertical-align: top;\n",
       "    }\n",
       "\n",
       "    .dataframe thead th {\n",
       "        text-align: right;\n",
       "    }\n",
       "</style>\n",
       "<table border=\"1\" class=\"dataframe\">\n",
       "  <thead>\n",
       "    <tr style=\"text-align: right;\">\n",
       "      <th></th>\n",
       "      <th>CustID</th>\n",
       "      <th>LDate</th>\n",
       "      <th>YearOfBirth</th>\n",
       "      <th>Gender</th>\n",
       "      <th>CallCenter</th>\n",
       "      <th>EDate</th>\n",
       "      <th>NGroup</th>\n",
       "      <th>Region</th>\n",
       "      <th>Class</th>\n",
       "      <th>AIncome</th>\n",
       "      <th>Response</th>\n",
       "    </tr>\n",
       "  </thead>\n",
       "  <tbody>\n",
       "    <tr>\n",
       "      <th>0</th>\n",
       "      <td>0000002771</td>\n",
       "      <td>2015-11-07</td>\n",
       "      <td>1949.0</td>\n",
       "      <td>Others</td>\n",
       "      <td>No</td>\n",
       "      <td>1.379713e+10</td>\n",
       "      <td>D</td>\n",
       "      <td>South West</td>\n",
       "      <td>Platinum</td>\n",
       "      <td>43.0</td>\n",
       "      <td>No</td>\n",
       "    </tr>\n",
       "    <tr>\n",
       "      <th>1</th>\n",
       "      <td>0000004529</td>\n",
       "      <td>2015-06-29</td>\n",
       "      <td>1959.0</td>\n",
       "      <td>Male</td>\n",
       "      <td>No</td>\n",
       "      <td>1.379713e+10</td>\n",
       "      <td>F</td>\n",
       "      <td>London</td>\n",
       "      <td>Silver</td>\n",
       "      <td>41.0</td>\n",
       "      <td>No</td>\n",
       "    </tr>\n",
       "    <tr>\n",
       "      <th>2</th>\n",
       "      <td>0000011207</td>\n",
       "      <td>2017-05-23</td>\n",
       "      <td>1966.0</td>\n",
       "      <td>Male</td>\n",
       "      <td>No</td>\n",
       "      <td>1.379713e+10</td>\n",
       "      <td>D</td>\n",
       "      <td>London</td>\n",
       "      <td>Silver</td>\n",
       "      <td>45.0</td>\n",
       "      <td>No</td>\n",
       "    </tr>\n",
       "    <tr>\n",
       "      <th>3</th>\n",
       "      <td>0000019763</td>\n",
       "      <td>2016-11-19</td>\n",
       "      <td>1946.0</td>\n",
       "      <td>Female</td>\n",
       "      <td>No</td>\n",
       "      <td>1.379713e+10</td>\n",
       "      <td>B</td>\n",
       "      <td>London</td>\n",
       "      <td>Gold</td>\n",
       "      <td>43.0</td>\n",
       "      <td>No</td>\n",
       "    </tr>\n",
       "    <tr>\n",
       "      <th>4</th>\n",
       "      <td>0000046906</td>\n",
       "      <td>2017-11-12</td>\n",
       "      <td>1976.0</td>\n",
       "      <td>Female</td>\n",
       "      <td>Yes</td>\n",
       "      <td>1.379713e+10</td>\n",
       "      <td>F</td>\n",
       "      <td>South West</td>\n",
       "      <td>Silver</td>\n",
       "      <td>47.0</td>\n",
       "      <td>No</td>\n",
       "    </tr>\n",
       "    <tr>\n",
       "      <th>...</th>\n",
       "      <td>...</td>\n",
       "      <td>...</td>\n",
       "      <td>...</td>\n",
       "      <td>...</td>\n",
       "      <td>...</td>\n",
       "      <td>...</td>\n",
       "      <td>...</td>\n",
       "      <td>...</td>\n",
       "      <td>...</td>\n",
       "      <td>...</td>\n",
       "      <td>...</td>\n",
       "    </tr>\n",
       "    <tr>\n",
       "      <th>1839</th>\n",
       "      <td>0052732018</td>\n",
       "      <td>2013-09-01</td>\n",
       "      <td>1979.0</td>\n",
       "      <td>Female</td>\n",
       "      <td>No</td>\n",
       "      <td>1.379713e+10</td>\n",
       "      <td>E</td>\n",
       "      <td>London</td>\n",
       "      <td>Silver</td>\n",
       "      <td>55.0</td>\n",
       "      <td>No</td>\n",
       "    </tr>\n",
       "    <tr>\n",
       "      <th>1840</th>\n",
       "      <td>0052745187</td>\n",
       "      <td>2016-12-02</td>\n",
       "      <td>1973.0</td>\n",
       "      <td>Female</td>\n",
       "      <td>No</td>\n",
       "      <td>1.379713e+10</td>\n",
       "      <td>F</td>\n",
       "      <td>London</td>\n",
       "      <td>Gold</td>\n",
       "      <td>36.0</td>\n",
       "      <td>No</td>\n",
       "    </tr>\n",
       "    <tr>\n",
       "      <th>1841</th>\n",
       "      <td>0052758092</td>\n",
       "      <td>2016-04-02</td>\n",
       "      <td>1958.0</td>\n",
       "      <td>Female</td>\n",
       "      <td>No</td>\n",
       "      <td>1.379713e+10</td>\n",
       "      <td>A</td>\n",
       "      <td>South East</td>\n",
       "      <td>Silver</td>\n",
       "      <td>43.0</td>\n",
       "      <td>Yes</td>\n",
       "    </tr>\n",
       "    <tr>\n",
       "      <th>1842</th>\n",
       "      <td>0052780250</td>\n",
       "      <td>2011-01-29</td>\n",
       "      <td>1980.0</td>\n",
       "      <td>Male</td>\n",
       "      <td>No</td>\n",
       "      <td>1.379713e+10</td>\n",
       "      <td>F</td>\n",
       "      <td>South West</td>\n",
       "      <td>Silver</td>\n",
       "      <td>38.0</td>\n",
       "      <td>No</td>\n",
       "    </tr>\n",
       "    <tr>\n",
       "      <th>1843</th>\n",
       "      <td>0052829143</td>\n",
       "      <td>2010-06-01</td>\n",
       "      <td>1986.0</td>\n",
       "      <td>Male</td>\n",
       "      <td>No</td>\n",
       "      <td>1.379713e+10</td>\n",
       "      <td>B</td>\n",
       "      <td>South East</td>\n",
       "      <td>Tin</td>\n",
       "      <td>47.0</td>\n",
       "      <td>Yes</td>\n",
       "    </tr>\n",
       "  </tbody>\n",
       "</table>\n",
       "<p>1844 rows × 11 columns</p>\n",
       "</div>"
      ],
      "text/plain": [
       "          CustID       LDate  YearOfBirth  Gender CallCenter         EDate  \\\n",
       "0     0000002771  2015-11-07       1949.0  Others         No  1.379713e+10   \n",
       "1     0000004529  2015-06-29       1959.0    Male         No  1.379713e+10   \n",
       "2     0000011207  2017-05-23       1966.0    Male         No  1.379713e+10   \n",
       "3     0000019763  2016-11-19       1946.0  Female         No  1.379713e+10   \n",
       "4     0000046906  2017-11-12       1976.0  Female        Yes  1.379713e+10   \n",
       "...          ...         ...          ...     ...        ...           ...   \n",
       "1839  0052732018  2013-09-01       1979.0  Female         No  1.379713e+10   \n",
       "1840  0052745187  2016-12-02       1973.0  Female         No  1.379713e+10   \n",
       "1841  0052758092  2016-04-02       1958.0  Female         No  1.379713e+10   \n",
       "1842  0052780250  2011-01-29       1980.0    Male         No  1.379713e+10   \n",
       "1843  0052829143  2010-06-01       1986.0    Male         No  1.379713e+10   \n",
       "\n",
       "     NGroup      Region     Class  AIncome Response  \n",
       "0         D  South West  Platinum     43.0       No  \n",
       "1         F      London    Silver     41.0       No  \n",
       "2         D      London    Silver     45.0       No  \n",
       "3         B      London      Gold     43.0       No  \n",
       "4         F  South West    Silver     47.0       No  \n",
       "...     ...         ...       ...      ...      ...  \n",
       "1839      E      London    Silver     55.0       No  \n",
       "1840      F      London      Gold     36.0       No  \n",
       "1841      A  South East    Silver     43.0      Yes  \n",
       "1842      F  South West    Silver     38.0       No  \n",
       "1843      B  South East       Tin     47.0      Yes  \n",
       "\n",
       "[1844 rows x 11 columns]"
      ]
     },
     "execution_count": 2,
     "metadata": {},
     "output_type": "execute_result"
    }
   ],
   "source": [
    "cc1 = pd.read_spss('customer_campaigns.sav')\n",
    "cc1"
   ]
  },
  {
   "cell_type": "markdown",
   "metadata": {},
   "source": [
    "By using the pyreadstat library we can transform the categorical variables to numerical values as this was an SPSS file"
   ]
  },
  {
   "cell_type": "code",
   "execution_count": 3,
   "metadata": {},
   "outputs": [
    {
     "data": {
      "text/html": [
       "<div>\n",
       "<style scoped>\n",
       "    .dataframe tbody tr th:only-of-type {\n",
       "        vertical-align: middle;\n",
       "    }\n",
       "\n",
       "    .dataframe tbody tr th {\n",
       "        vertical-align: top;\n",
       "    }\n",
       "\n",
       "    .dataframe thead th {\n",
       "        text-align: right;\n",
       "    }\n",
       "</style>\n",
       "<table border=\"1\" class=\"dataframe\">\n",
       "  <thead>\n",
       "    <tr style=\"text-align: right;\">\n",
       "      <th></th>\n",
       "      <th>CustID</th>\n",
       "      <th>LDate</th>\n",
       "      <th>YearOfBirth</th>\n",
       "      <th>Gender</th>\n",
       "      <th>CallCenter</th>\n",
       "      <th>EDate</th>\n",
       "      <th>NGroup</th>\n",
       "      <th>Region</th>\n",
       "      <th>Class</th>\n",
       "      <th>AIncome</th>\n",
       "      <th>Response</th>\n",
       "    </tr>\n",
       "  </thead>\n",
       "  <tbody>\n",
       "    <tr>\n",
       "      <th>0</th>\n",
       "      <td>0000002771</td>\n",
       "      <td>2015-11-07</td>\n",
       "      <td>1949.0</td>\n",
       "      <td>3.0</td>\n",
       "      <td>0.0</td>\n",
       "      <td>1.379713e+10</td>\n",
       "      <td>4.0</td>\n",
       "      <td>2.0</td>\n",
       "      <td>1.0</td>\n",
       "      <td>43.0</td>\n",
       "      <td>0.0</td>\n",
       "    </tr>\n",
       "    <tr>\n",
       "      <th>1</th>\n",
       "      <td>0000004529</td>\n",
       "      <td>2015-06-29</td>\n",
       "      <td>1959.0</td>\n",
       "      <td>2.0</td>\n",
       "      <td>0.0</td>\n",
       "      <td>1.379713e+10</td>\n",
       "      <td>6.0</td>\n",
       "      <td>1.0</td>\n",
       "      <td>3.0</td>\n",
       "      <td>41.0</td>\n",
       "      <td>0.0</td>\n",
       "    </tr>\n",
       "    <tr>\n",
       "      <th>2</th>\n",
       "      <td>0000011207</td>\n",
       "      <td>2017-05-23</td>\n",
       "      <td>1966.0</td>\n",
       "      <td>2.0</td>\n",
       "      <td>0.0</td>\n",
       "      <td>1.379713e+10</td>\n",
       "      <td>4.0</td>\n",
       "      <td>1.0</td>\n",
       "      <td>3.0</td>\n",
       "      <td>45.0</td>\n",
       "      <td>0.0</td>\n",
       "    </tr>\n",
       "    <tr>\n",
       "      <th>3</th>\n",
       "      <td>0000019763</td>\n",
       "      <td>2016-11-19</td>\n",
       "      <td>1946.0</td>\n",
       "      <td>1.0</td>\n",
       "      <td>0.0</td>\n",
       "      <td>1.379713e+10</td>\n",
       "      <td>2.0</td>\n",
       "      <td>1.0</td>\n",
       "      <td>2.0</td>\n",
       "      <td>43.0</td>\n",
       "      <td>0.0</td>\n",
       "    </tr>\n",
       "    <tr>\n",
       "      <th>4</th>\n",
       "      <td>0000046906</td>\n",
       "      <td>2017-11-12</td>\n",
       "      <td>1976.0</td>\n",
       "      <td>1.0</td>\n",
       "      <td>1.0</td>\n",
       "      <td>1.379713e+10</td>\n",
       "      <td>6.0</td>\n",
       "      <td>2.0</td>\n",
       "      <td>3.0</td>\n",
       "      <td>47.0</td>\n",
       "      <td>0.0</td>\n",
       "    </tr>\n",
       "    <tr>\n",
       "      <th>...</th>\n",
       "      <td>...</td>\n",
       "      <td>...</td>\n",
       "      <td>...</td>\n",
       "      <td>...</td>\n",
       "      <td>...</td>\n",
       "      <td>...</td>\n",
       "      <td>...</td>\n",
       "      <td>...</td>\n",
       "      <td>...</td>\n",
       "      <td>...</td>\n",
       "      <td>...</td>\n",
       "    </tr>\n",
       "    <tr>\n",
       "      <th>1839</th>\n",
       "      <td>0052732018</td>\n",
       "      <td>2013-09-01</td>\n",
       "      <td>1979.0</td>\n",
       "      <td>1.0</td>\n",
       "      <td>0.0</td>\n",
       "      <td>1.379713e+10</td>\n",
       "      <td>5.0</td>\n",
       "      <td>1.0</td>\n",
       "      <td>3.0</td>\n",
       "      <td>55.0</td>\n",
       "      <td>0.0</td>\n",
       "    </tr>\n",
       "    <tr>\n",
       "      <th>1840</th>\n",
       "      <td>0052745187</td>\n",
       "      <td>2016-12-02</td>\n",
       "      <td>1973.0</td>\n",
       "      <td>1.0</td>\n",
       "      <td>0.0</td>\n",
       "      <td>1.379713e+10</td>\n",
       "      <td>6.0</td>\n",
       "      <td>1.0</td>\n",
       "      <td>2.0</td>\n",
       "      <td>36.0</td>\n",
       "      <td>0.0</td>\n",
       "    </tr>\n",
       "    <tr>\n",
       "      <th>1841</th>\n",
       "      <td>0052758092</td>\n",
       "      <td>2016-04-02</td>\n",
       "      <td>1958.0</td>\n",
       "      <td>1.0</td>\n",
       "      <td>0.0</td>\n",
       "      <td>1.379713e+10</td>\n",
       "      <td>1.0</td>\n",
       "      <td>4.0</td>\n",
       "      <td>3.0</td>\n",
       "      <td>43.0</td>\n",
       "      <td>1.0</td>\n",
       "    </tr>\n",
       "    <tr>\n",
       "      <th>1842</th>\n",
       "      <td>0052780250</td>\n",
       "      <td>2011-01-29</td>\n",
       "      <td>1980.0</td>\n",
       "      <td>2.0</td>\n",
       "      <td>0.0</td>\n",
       "      <td>1.379713e+10</td>\n",
       "      <td>6.0</td>\n",
       "      <td>2.0</td>\n",
       "      <td>3.0</td>\n",
       "      <td>38.0</td>\n",
       "      <td>0.0</td>\n",
       "    </tr>\n",
       "    <tr>\n",
       "      <th>1843</th>\n",
       "      <td>0052829143</td>\n",
       "      <td>2010-06-01</td>\n",
       "      <td>1986.0</td>\n",
       "      <td>2.0</td>\n",
       "      <td>0.0</td>\n",
       "      <td>1.379713e+10</td>\n",
       "      <td>2.0</td>\n",
       "      <td>4.0</td>\n",
       "      <td>4.0</td>\n",
       "      <td>47.0</td>\n",
       "      <td>1.0</td>\n",
       "    </tr>\n",
       "  </tbody>\n",
       "</table>\n",
       "<p>1844 rows × 11 columns</p>\n",
       "</div>"
      ],
      "text/plain": [
       "          CustID       LDate  YearOfBirth  Gender  CallCenter         EDate  \\\n",
       "0     0000002771  2015-11-07       1949.0     3.0         0.0  1.379713e+10   \n",
       "1     0000004529  2015-06-29       1959.0     2.0         0.0  1.379713e+10   \n",
       "2     0000011207  2017-05-23       1966.0     2.0         0.0  1.379713e+10   \n",
       "3     0000019763  2016-11-19       1946.0     1.0         0.0  1.379713e+10   \n",
       "4     0000046906  2017-11-12       1976.0     1.0         1.0  1.379713e+10   \n",
       "...          ...         ...          ...     ...         ...           ...   \n",
       "1839  0052732018  2013-09-01       1979.0     1.0         0.0  1.379713e+10   \n",
       "1840  0052745187  2016-12-02       1973.0     1.0         0.0  1.379713e+10   \n",
       "1841  0052758092  2016-04-02       1958.0     1.0         0.0  1.379713e+10   \n",
       "1842  0052780250  2011-01-29       1980.0     2.0         0.0  1.379713e+10   \n",
       "1843  0052829143  2010-06-01       1986.0     2.0         0.0  1.379713e+10   \n",
       "\n",
       "      NGroup  Region  Class  AIncome  Response  \n",
       "0        4.0     2.0    1.0     43.0       0.0  \n",
       "1        6.0     1.0    3.0     41.0       0.0  \n",
       "2        4.0     1.0    3.0     45.0       0.0  \n",
       "3        2.0     1.0    2.0     43.0       0.0  \n",
       "4        6.0     2.0    3.0     47.0       0.0  \n",
       "...      ...     ...    ...      ...       ...  \n",
       "1839     5.0     1.0    3.0     55.0       0.0  \n",
       "1840     6.0     1.0    2.0     36.0       0.0  \n",
       "1841     1.0     4.0    3.0     43.0       1.0  \n",
       "1842     6.0     2.0    3.0     38.0       0.0  \n",
       "1843     2.0     4.0    4.0     47.0       1.0  \n",
       "\n",
       "[1844 rows x 11 columns]"
      ]
     },
     "execution_count": 3,
     "metadata": {},
     "output_type": "execute_result"
    }
   ],
   "source": [
    "cc, meta = pyreadstat.read_sav('customer_campaigns.sav')\n",
    "cc\n"
   ]
  },
  {
   "cell_type": "markdown",
   "metadata": {},
   "source": [
    "Dropping the EDate column as this is the date extracted from the DB"
   ]
  },
  {
   "cell_type": "code",
   "execution_count": 4,
   "metadata": {},
   "outputs": [
    {
     "data": {
      "text/html": [
       "<div>\n",
       "<style scoped>\n",
       "    .dataframe tbody tr th:only-of-type {\n",
       "        vertical-align: middle;\n",
       "    }\n",
       "\n",
       "    .dataframe tbody tr th {\n",
       "        vertical-align: top;\n",
       "    }\n",
       "\n",
       "    .dataframe thead th {\n",
       "        text-align: right;\n",
       "    }\n",
       "</style>\n",
       "<table border=\"1\" class=\"dataframe\">\n",
       "  <thead>\n",
       "    <tr style=\"text-align: right;\">\n",
       "      <th></th>\n",
       "      <th>CustID</th>\n",
       "      <th>LDate</th>\n",
       "      <th>YearOfBirth</th>\n",
       "      <th>Gender</th>\n",
       "      <th>CallCenter</th>\n",
       "      <th>EDate</th>\n",
       "      <th>NGroup</th>\n",
       "      <th>Region</th>\n",
       "      <th>Class</th>\n",
       "      <th>AIncome</th>\n",
       "      <th>Response</th>\n",
       "    </tr>\n",
       "  </thead>\n",
       "  <tbody>\n",
       "    <tr>\n",
       "      <th>0</th>\n",
       "      <td>0000002771</td>\n",
       "      <td>2015-11-07</td>\n",
       "      <td>1949.0</td>\n",
       "      <td>3.0</td>\n",
       "      <td>0.0</td>\n",
       "      <td>1.379713e+10</td>\n",
       "      <td>4.0</td>\n",
       "      <td>2.0</td>\n",
       "      <td>1.0</td>\n",
       "      <td>43.0</td>\n",
       "      <td>0.0</td>\n",
       "    </tr>\n",
       "    <tr>\n",
       "      <th>1</th>\n",
       "      <td>0000004529</td>\n",
       "      <td>2015-06-29</td>\n",
       "      <td>1959.0</td>\n",
       "      <td>2.0</td>\n",
       "      <td>0.0</td>\n",
       "      <td>1.379713e+10</td>\n",
       "      <td>6.0</td>\n",
       "      <td>1.0</td>\n",
       "      <td>3.0</td>\n",
       "      <td>41.0</td>\n",
       "      <td>0.0</td>\n",
       "    </tr>\n",
       "    <tr>\n",
       "      <th>2</th>\n",
       "      <td>0000011207</td>\n",
       "      <td>2017-05-23</td>\n",
       "      <td>1966.0</td>\n",
       "      <td>2.0</td>\n",
       "      <td>0.0</td>\n",
       "      <td>1.379713e+10</td>\n",
       "      <td>4.0</td>\n",
       "      <td>1.0</td>\n",
       "      <td>3.0</td>\n",
       "      <td>45.0</td>\n",
       "      <td>0.0</td>\n",
       "    </tr>\n",
       "    <tr>\n",
       "      <th>3</th>\n",
       "      <td>0000019763</td>\n",
       "      <td>2016-11-19</td>\n",
       "      <td>1946.0</td>\n",
       "      <td>1.0</td>\n",
       "      <td>0.0</td>\n",
       "      <td>1.379713e+10</td>\n",
       "      <td>2.0</td>\n",
       "      <td>1.0</td>\n",
       "      <td>2.0</td>\n",
       "      <td>43.0</td>\n",
       "      <td>0.0</td>\n",
       "    </tr>\n",
       "    <tr>\n",
       "      <th>4</th>\n",
       "      <td>0000046906</td>\n",
       "      <td>2017-11-12</td>\n",
       "      <td>1976.0</td>\n",
       "      <td>1.0</td>\n",
       "      <td>1.0</td>\n",
       "      <td>1.379713e+10</td>\n",
       "      <td>6.0</td>\n",
       "      <td>2.0</td>\n",
       "      <td>3.0</td>\n",
       "      <td>47.0</td>\n",
       "      <td>0.0</td>\n",
       "    </tr>\n",
       "  </tbody>\n",
       "</table>\n",
       "</div>"
      ],
      "text/plain": [
       "       CustID       LDate  YearOfBirth  Gender  CallCenter         EDate  \\\n",
       "0  0000002771  2015-11-07       1949.0     3.0         0.0  1.379713e+10   \n",
       "1  0000004529  2015-06-29       1959.0     2.0         0.0  1.379713e+10   \n",
       "2  0000011207  2017-05-23       1966.0     2.0         0.0  1.379713e+10   \n",
       "3  0000019763  2016-11-19       1946.0     1.0         0.0  1.379713e+10   \n",
       "4  0000046906  2017-11-12       1976.0     1.0         1.0  1.379713e+10   \n",
       "\n",
       "   NGroup  Region  Class  AIncome  Response  \n",
       "0     4.0     2.0    1.0     43.0       0.0  \n",
       "1     6.0     1.0    3.0     41.0       0.0  \n",
       "2     4.0     1.0    3.0     45.0       0.0  \n",
       "3     2.0     1.0    2.0     43.0       0.0  \n",
       "4     6.0     2.0    3.0     47.0       0.0  "
      ]
     },
     "execution_count": 4,
     "metadata": {},
     "output_type": "execute_result"
    }
   ],
   "source": [
    "cc.head()"
   ]
  },
  {
   "cell_type": "code",
   "execution_count": 5,
   "metadata": {},
   "outputs": [
    {
     "name": "stdout",
     "output_type": "stream",
     "text": [
      "<class 'pandas.core.frame.DataFrame'>\n",
      "RangeIndex: 1844 entries, 0 to 1843\n",
      "Data columns (total 11 columns):\n",
      " #   Column       Non-Null Count  Dtype  \n",
      "---  ------       --------------  -----  \n",
      " 0   CustID       1844 non-null   object \n",
      " 1   LDate        1819 non-null   object \n",
      " 2   YearOfBirth  1844 non-null   float64\n",
      " 3   Gender       1844 non-null   float64\n",
      " 4   CallCenter   1844 non-null   float64\n",
      " 5   EDate        1844 non-null   float64\n",
      " 6   NGroup       1844 non-null   float64\n",
      " 7   Region       1844 non-null   float64\n",
      " 8   Class        1844 non-null   float64\n",
      " 9   AIncome      1838 non-null   float64\n",
      " 10  Response     1844 non-null   float64\n",
      "dtypes: float64(9), object(2)\n",
      "memory usage: 158.6+ KB\n"
     ]
    }
   ],
   "source": [
    "cc.info()"
   ]
  },
  {
   "cell_type": "markdown",
   "metadata": {},
   "source": [
    "Noticing the following:\n",
    "    - LDate and AIncome have missing values\n",
    "    - LDate needs to be converted into Date\n",
    "    "
   ]
  },
  {
   "cell_type": "code",
   "execution_count": 6,
   "metadata": {},
   "outputs": [
    {
     "data": {
      "text/plain": [
       "CustID          0\n",
       "LDate          25\n",
       "YearOfBirth     0\n",
       "Gender          0\n",
       "CallCenter      0\n",
       "EDate           0\n",
       "NGroup          0\n",
       "Region          0\n",
       "Class           0\n",
       "AIncome         6\n",
       "Response        0\n",
       "dtype: int64"
      ]
     },
     "execution_count": 6,
     "metadata": {},
     "output_type": "execute_result"
    }
   ],
   "source": [
    "cc.isnull().sum()"
   ]
  },
  {
   "cell_type": "code",
   "execution_count": 7,
   "metadata": {},
   "outputs": [
    {
     "data": {
      "text/plain": [
       "3.0    406\n",
       "2.0    338\n",
       "6.0    332\n",
       "4.0    331\n",
       "5.0    231\n",
       "1.0    153\n",
       "7.0     53\n",
       "Name: NGroup, dtype: int64"
      ]
     },
     "execution_count": 7,
     "metadata": {},
     "output_type": "execute_result"
    }
   ],
   "source": [
    "cc['NGroup'].value_counts()\n"
   ]
  },
  {
   "cell_type": "markdown",
   "metadata": {},
   "source": [
    "Looking into the categorical explanations of the NGroup variable. \n",
    "This variable represents Neighborhood Groups"
   ]
  },
  {
   "cell_type": "code",
   "execution_count": 8,
   "metadata": {},
   "outputs": [
    {
     "data": {
      "text/plain": [
       "C    406\n",
       "B    338\n",
       "F    332\n",
       "D    331\n",
       "E    231\n",
       "A    153\n",
       "G     53\n",
       "Name: NGroup, dtype: int64"
      ]
     },
     "execution_count": 8,
     "metadata": {},
     "output_type": "execute_result"
    }
   ],
   "source": [
    "cc1['NGroup'].value_counts()"
   ]
  },
  {
   "cell_type": "code",
   "execution_count": 9,
   "metadata": {},
   "outputs": [
    {
     "data": {
      "text/html": [
       "<div>\n",
       "<style scoped>\n",
       "    .dataframe tbody tr th:only-of-type {\n",
       "        vertical-align: middle;\n",
       "    }\n",
       "\n",
       "    .dataframe tbody tr th {\n",
       "        vertical-align: top;\n",
       "    }\n",
       "\n",
       "    .dataframe thead th {\n",
       "        text-align: right;\n",
       "    }\n",
       "</style>\n",
       "<table border=\"1\" class=\"dataframe\">\n",
       "  <thead>\n",
       "    <tr style=\"text-align: right;\">\n",
       "      <th></th>\n",
       "      <th>YearOfBirth</th>\n",
       "      <th>EDate</th>\n",
       "      <th>AIncome</th>\n",
       "    </tr>\n",
       "  </thead>\n",
       "  <tbody>\n",
       "    <tr>\n",
       "      <th>count</th>\n",
       "      <td>1844.000000</td>\n",
       "      <td>1844.000000</td>\n",
       "      <td>1838.000000</td>\n",
       "    </tr>\n",
       "    <tr>\n",
       "      <th>mean</th>\n",
       "      <td>1966.347072</td>\n",
       "      <td>13797129600.000000</td>\n",
       "      <td>43.328074</td>\n",
       "    </tr>\n",
       "    <tr>\n",
       "      <th>std</th>\n",
       "      <td>13.080283</td>\n",
       "      <td>0.000000</td>\n",
       "      <td>6.930370</td>\n",
       "    </tr>\n",
       "    <tr>\n",
       "      <th>min</th>\n",
       "      <td>1941.000000</td>\n",
       "      <td>13797129600.000000</td>\n",
       "      <td>12.000000</td>\n",
       "    </tr>\n",
       "    <tr>\n",
       "      <th>25%</th>\n",
       "      <td>1956.000000</td>\n",
       "      <td>13797129600.000000</td>\n",
       "      <td>38.000000</td>\n",
       "    </tr>\n",
       "    <tr>\n",
       "      <th>50%</th>\n",
       "      <td>1966.000000</td>\n",
       "      <td>13797129600.000000</td>\n",
       "      <td>45.000000</td>\n",
       "    </tr>\n",
       "    <tr>\n",
       "      <th>75%</th>\n",
       "      <td>1976.000000</td>\n",
       "      <td>13797129600.000000</td>\n",
       "      <td>49.000000</td>\n",
       "    </tr>\n",
       "    <tr>\n",
       "      <th>max</th>\n",
       "      <td>1999.000000</td>\n",
       "      <td>13797129600.000000</td>\n",
       "      <td>59.000000</td>\n",
       "    </tr>\n",
       "  </tbody>\n",
       "</table>\n",
       "</div>"
      ],
      "text/plain": [
       "       YearOfBirth              EDate     AIncome\n",
       "count  1844.000000        1844.000000 1838.000000\n",
       "mean   1966.347072 13797129600.000000   43.328074\n",
       "std      13.080283           0.000000    6.930370\n",
       "min    1941.000000 13797129600.000000   12.000000\n",
       "25%    1956.000000 13797129600.000000   38.000000\n",
       "50%    1966.000000 13797129600.000000   45.000000\n",
       "75%    1976.000000 13797129600.000000   49.000000\n",
       "max    1999.000000 13797129600.000000   59.000000"
      ]
     },
     "execution_count": 9,
     "metadata": {},
     "output_type": "execute_result"
    }
   ],
   "source": [
    "with pd.option_context('float_format', '{:f}'.format):\n",
    "    cc1.describe()"
   ]
  },
  {
   "cell_type": "markdown",
   "metadata": {},
   "source": [
    "We can make the assumption that AIncome is in thousands of $$$.\n"
   ]
  },
  {
   "cell_type": "markdown",
   "metadata": {},
   "source": [
    "ISSUES:\n",
    "- LDate has wrong date format\n",
    "- Missing values in Aincome & LDate\n",
    "- EDate is unneccessary as this is just the extraction date "
   ]
  },
  {
   "cell_type": "code",
   "execution_count": 10,
   "metadata": {},
   "outputs": [],
   "source": [
    "#Dropping the Edate column\n",
    "cc.drop(['EDate'], axis='columns', inplace=True)"
   ]
  },
  {
   "cell_type": "code",
   "execution_count": 11,
   "metadata": {},
   "outputs": [],
   "source": [
    "#Converting LDate to datetime\n",
    "\n",
    "cc['LDate'] = pd.to_datetime(cc['LDate'])"
   ]
  },
  {
   "cell_type": "code",
   "execution_count": 12,
   "metadata": {},
   "outputs": [
    {
     "data": {
      "text/plain": [
       "dtype('<M8[ns]')"
      ]
     },
     "execution_count": 12,
     "metadata": {},
     "output_type": "execute_result"
    }
   ],
   "source": [
    "cc.LDate.dtype"
   ]
  },
  {
   "cell_type": "markdown",
   "metadata": {},
   "source": [
    "Imputing missing values:\n",
    "For LDate, we will use the mean and for AIncome median"
   ]
  },
  {
   "cell_type": "code",
   "execution_count": 13,
   "metadata": {},
   "outputs": [],
   "source": [
    "missing_col = ['LDate']\n",
    "#Technique 1: Using mean to impute the missing values in the LDate column\n",
    "for i in missing_col:\n",
    " cc.loc[cc.loc[:,i].isnull(),i]=cc.loc[:,i].mean()\n"
   ]
  },
  {
   "cell_type": "code",
   "execution_count": 14,
   "metadata": {},
   "outputs": [
    {
     "data": {
      "text/plain": [
       "CustID         0\n",
       "LDate          0\n",
       "YearOfBirth    0\n",
       "Gender         0\n",
       "CallCenter     0\n",
       "NGroup         0\n",
       "Region         0\n",
       "Class          0\n",
       "AIncome        6\n",
       "Response       0\n",
       "dtype: int64"
      ]
     },
     "execution_count": 14,
     "metadata": {},
     "output_type": "execute_result"
    }
   ],
   "source": [
    "cc.isnull().sum()"
   ]
  },
  {
   "cell_type": "code",
   "execution_count": 15,
   "metadata": {},
   "outputs": [
    {
     "name": "stdout",
     "output_type": "stream",
     "text": [
      "count of NULL values after imputation\n",
      "\n"
     ]
    },
    {
     "data": {
      "text/plain": [
       "CustID         0\n",
       "LDate          0\n",
       "YearOfBirth    0\n",
       "Gender         0\n",
       "CallCenter     0\n",
       "NGroup         0\n",
       "Region         0\n",
       "Class          0\n",
       "AIncome        0\n",
       "Response       0\n",
       "dtype: int64"
      ]
     },
     "execution_count": 15,
     "metadata": {},
     "output_type": "execute_result"
    }
   ],
   "source": [
    "missing_col1 = ['AIncome']\n",
    " \n",
    "#Technique 2: Using median to impute the missing values for the AIncome column\n",
    "for i in missing_col1:\n",
    " cc.loc[cc.loc[:,i].isnull(),i]=cc.loc[:,i].median()\n",
    " \n",
    "print(\"count of NULL values after imputation\\n\")\n",
    "cc.isnull().sum()"
   ]
  },
  {
   "cell_type": "markdown",
   "metadata": {},
   "source": [
    "Univariate Exploration: Plots "
   ]
  },
  {
   "cell_type": "code",
   "execution_count": 16,
   "metadata": {},
   "outputs": [
    {
     "data": {
      "image/png": "[encoded data removed]",
      "text/plain": [
       "<Figure size 576x288 with 1 Axes>"
      ]
     },
     "metadata": {
      "image/png": {
       "height": 288,
       "width": 510
      }
     },
     "output_type": "display_data"
    }
   ],
   "source": [
    "fig, ax = plt.subplots()\n",
    "\n",
    "# Plot a histogram\n",
    "ax.hist(cc['YearOfBirth'], bins=50)\n",
    "# Label\n",
    "ax.set(title='A Histogram of Birth Years',\n",
    "       xlabel='Year',\n",
    "       ylabel='Count')\n",
    "plt.show();"
   ]
  },
  {
   "cell_type": "code",
   "execution_count": 17,
   "metadata": {},
   "outputs": [
    {
     "data": {
      "image/png": "[encoded data removed]",
      "text/plain": [
       "<Figure size 576x288 with 1 Axes>"
      ]
     },
     "metadata": {
      "image/png": {
       "height": 288,
       "width": 508
      }
     },
     "output_type": "display_data"
    }
   ],
   "source": [
    "fig, ax = plt.subplots()\n",
    "\n",
    "# Plot a histogram\n",
    "ax.hist(cc['AIncome'], bins=20)\n",
    "# Label\n",
    "ax.set(title='A Histogram of Customer Annual Income',\n",
    "       xlabel='Income in 000s',\n",
    "       ylabel='Count')\n",
    "plt.show();"
   ]
  },
  {
   "cell_type": "markdown",
   "metadata": {},
   "source": [
    "Examining the  distribution of different neighborhood groups"
   ]
  },
  {
   "cell_type": "code",
   "execution_count": 18,
   "metadata": {},
   "outputs": [
    {
     "data": {
      "image/png": "[encoded data removed]",
      "text/plain": [
       "<Figure size 576x288 with 1 Axes>"
      ]
     },
     "metadata": {
      "image/png": {
       "height": 270,
       "width": 505
      }
     },
     "output_type": "display_data"
    }
   ],
   "source": [
    "ax = cc.NGroup.value_counts().plot.barh()\n",
    "\n",
    "ax.set(title='Comparison of Neighborhood Groups',\n",
    "       ylabel='Neighborhood Count')\n",
    "\n",
    "plt.show();"
   ]
  },
  {
   "cell_type": "markdown",
   "metadata": {},
   "source": [
    "Groups 7 and 1 will be merged into 1 group, named 'Other' (numerical 8), as they make up for less than 10% of the distribution"
   ]
  },
  {
   "cell_type": "code",
   "execution_count": 27,
   "metadata": {},
   "outputs": [],
   "source": [
    "#Continue here"
   ]
  }
 ],
 "metadata": {
  "kernelspec": {
   "display_name": "Python 3.9.1 ('base')",
   "language": "python",
   "name": "python3"
  },
  "language_info": {
   "codemirror_mode": {
    "name": "ipython",
    "version": 3
   },
   "file_extension": ".py",
   "mimetype": "text/x-python",
   "name": "python",
   "nbconvert_exporter": "python",
   "pygments_lexer": "ipython3",
   "version": "3.9.1"
  },
  "orig_nbformat": 4,
  "vscode": {
   "interpreter": {
    "hash": "acdacd4993430624edd78ff25e7ca09b5748c80b384d7830ff89c02d5d3a1f14"
   }
  }
 },
 "nbformat": 4,
 "nbformat_minor": 2
}
